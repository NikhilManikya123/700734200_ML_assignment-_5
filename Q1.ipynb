{
 "cells": [
  {
   "cell_type": "code",
   "execution_count": 24,
   "id": "575241b6",
   "metadata": {},
   "outputs": [],
   "source": [
    "#importing libraries and modules\n",
    "from sklearn.cluster import KMeans\n",
    "from sklearn.decomposition import PCA\n",
    "from sklearn.preprocessing import StandardScaler\n",
    "from sklearn.model_selection import train_test_split\n",
    "import pandas as pd\n",
    "from sklearn.linear_model import LogisticRegression\n",
    "from sklearn.metrics import accuracy_score\n",
    "import matplotlib.pyplot as plt\n",
    "import warnings\n",
    "warnings.filterwarnings('ignore')\n",
    "from sklearn.svm import SVC, LinearSVC\n",
    "import seaborn as sns\n",
    "sns.set(style=\"white\", color_codes=True)\n",
    "import warnings\n",
    "warnings.filterwarnings(\"ignore\")"
   ]
  },
  {
   "cell_type": "code",
   "execution_count": 25,
   "id": "867e8f91",
   "metadata": {},
   "outputs": [
    {
     "data": {
      "text/plain": [
       "12    7584\n",
       "11     365\n",
       "10     236\n",
       "6      204\n",
       "8      196\n",
       "7      190\n",
       "9      175\n",
       "Name: TENURE, dtype: int64"
      ]
     },
     "execution_count": 25,
     "metadata": {},
     "output_type": "execute_result"
    }
   ],
   "source": [
    "# Load dataset\n",
    "credit_card_df = pd.read_csv(r\"C:\\Users\\nikhi\\CC_GENERAL.csv\")\n",
    "credit_card_df.head()\n",
    "credit_card_df['TENURE'].value_counts()"
   ]
  },
  {
   "cell_type": "code",
   "execution_count": 26,
   "id": "8cb82d77",
   "metadata": {},
   "outputs": [],
   "source": [
    "# Select features and target variable\n",
    "features = credit_card_df.iloc[:,[1,2,3,4]]\n",
    "target = credit_card_df.iloc[:,-1]"
   ]
  },
  {
   "cell_type": "code",
   "execution_count": 27,
   "id": "497a7539",
   "metadata": {},
   "outputs": [],
   "source": [
    "from sklearn import preprocessing\n",
    "le = preprocessing.LabelEncoder()\n",
    "credit_card_df['CUST_ID'] = le.fit_transform(credit_card_df.CUST_ID.values)\n"
   ]
  },
  {
   "cell_type": "code",
   "execution_count": 28,
   "id": "0e1ace85",
   "metadata": {},
   "outputs": [
    {
     "name": "stdout",
     "output_type": "stream",
     "text": [
      "PCA on unscaled data:\n",
      "    principal component 1  principal component 2  TENURE\n",
      "0           -1500.250819           -1114.178407      12\n",
      "1            -592.910661            1914.657567      12\n",
      "2             217.734556             905.144354      12\n",
      "3             927.782551            -198.923616      12\n",
      "4           -1310.548986            -359.591021      12\n"
     ]
    }
   ],
   "source": [
    "# Perform PCA on unscaled data\n",
    "pca_unscaled = PCA(n_components=2)\n",
    "principal_components_unscaled = pca_unscaled.fit_transform(features)\n",
    "\n",
    "principal_df_unscaled = pd.DataFrame(data = principal_components_unscaled, columns = ['principal component 1', 'principal component 2'])\n",
    "\n",
    "final_df_unscaled = pd.concat([principal_df_unscaled, credit_card_df[['TENURE']]], axis = 1)\n",
    "print(\"PCA on unscaled data:\\n\", final_df_unscaled.head())"
   ]
  },
  {
   "cell_type": "code",
   "execution_count": 29,
   "id": "5b1ef75f",
   "metadata": {},
   "outputs": [],
   "source": [
    "# Perform K-means clustering on unscaled data\n",
    "n_clusters = 2 # this is the k in kmeans\n",
    "km_unscaled = KMeans(n_clusters=n_clusters)\n",
    "km_unscaled.fit(features)\n",
    "\n",
    "# predict the cluster for each data point\n",
    "y_cluster_kmeans_unscaled = km_unscaled.predict(features)"
   ]
  },
  {
   "cell_type": "code",
   "execution_count": 30,
   "id": "ad469cb7",
   "metadata": {},
   "outputs": [
    {
     "name": "stdout",
     "output_type": "stream",
     "text": [
      "Silhouette Score on unscaled data: 0.7526240640619958\n"
     ]
    }
   ],
   "source": [
    "# predict the cluster for each data point\n",
    "y_cluster_kmeans_unscaled = km_unscaled.predict(features)\n",
    "\n",
    "# Calculate Silhouette Score on unscaled data\n",
    "from sklearn import metrics\n",
    "silhouette_score_unscaled = metrics.silhouette_score(features, y_cluster_kmeans_unscaled)\n",
    "print(\"Silhouette Score on unscaled data:\", silhouette_score_unscaled)"
   ]
  },
  {
   "cell_type": "code",
   "execution_count": 31,
   "id": "f241105b",
   "metadata": {},
   "outputs": [
    {
     "name": "stdout",
     "output_type": "stream",
     "text": [
      "\n",
      "PCA on scaled data:\n",
      "    principal component 1  principal component 2  TENURE\n",
      "0              -0.786173               0.422114      12\n",
      "1              -0.278329              -0.803393      12\n",
      "2               0.255916              -0.630364      12\n",
      "3               0.277478               0.873840      12\n",
      "4              -0.510060              -0.341918      12\n"
     ]
    }
   ],
   "source": [
    "# Perform PCA on scaled data\n",
    "scaler = StandardScaler()\n",
    "features_scaled = scaler.fit_transform(features)\n",
    "\n",
    "pca_scaled = PCA(n_components=2)\n",
    "principal_components_scaled = pca_scaled.fit_transform(features_scaled)\n",
    "\n",
    "principal_df_scaled = pd.DataFrame(data = principal_components_scaled, columns = ['principal component 1', 'principal component 2'])\n",
    "\n",
    "final_df_scaled = pd.concat([principal_df_scaled, credit_card_df[['TENURE']]], axis = 1)\n",
    "print(\"\\nPCA on scaled data:\\n\", final_df_scaled.head())"
   ]
  },
  {
   "cell_type": "code",
   "execution_count": 32,
   "id": "56831617",
   "metadata": {},
   "outputs": [
    {
     "data": {
      "text/plain": [
       "KMeans(n_clusters=2)"
      ]
     },
     "execution_count": 32,
     "metadata": {},
     "output_type": "execute_result"
    }
   ],
   "source": [
    "# Perform K-means clustering on scaled data\n",
    "n_clusters = 2 # this is the k in kmeans\n",
    "km_scaled = KMeans(n_clusters=n_clusters)\n",
    "km_scaled.fit(features_scaled)"
   ]
  },
  {
   "cell_type": "code",
   "execution_count": 33,
   "id": "fe2fa363",
   "metadata": {},
   "outputs": [],
   "source": [
    "# predict the cluster for each data point\n",
    "y_cluster_kmeans_scaled = km_scaled.predict(features_scaled)"
   ]
  },
  {
   "cell_type": "code",
   "execution_count": 34,
   "id": "a9e11241",
   "metadata": {},
   "outputs": [
    {
     "name": "stdout",
     "output_type": "stream",
     "text": [
      "Silhouette Score on scaled data: 0.669864455390754\n"
     ]
    }
   ],
   "source": [
    "# Calculate Silhouette Score on scaled data\n",
    "silhouette_score_scaled = metrics.silhouette_score(features_scaled, y_cluster_kmeans_scaled)\n",
    "print(\"Silhouette Score on scaled data:\", silhouette_score_scaled)"
   ]
  },
  {
   "cell_type": "code",
   "execution_count": null,
   "id": "bd7713ff",
   "metadata": {},
   "outputs": [],
   "source": []
  }
 ],
 "metadata": {
  "kernelspec": {
   "display_name": "Python 3 (ipykernel)",
   "language": "python",
   "name": "python3"
  },
  "language_info": {
   "codemirror_mode": {
    "name": "ipython",
    "version": 3
   },
   "file_extension": ".py",
   "mimetype": "text/x-python",
   "name": "python",
   "nbconvert_exporter": "python",
   "pygments_lexer": "ipython3",
   "version": "3.9.13"
  }
 },
 "nbformat": 4,
 "nbformat_minor": 5
}
