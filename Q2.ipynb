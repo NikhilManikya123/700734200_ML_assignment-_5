{
 "cells": [
  {
   "cell_type": "code",
   "execution_count": 8,
   "id": "1fa14b3d",
   "metadata": {},
   "outputs": [],
   "source": [
    "#imorting the libraries and modules\n",
    "from sklearn.decomposition import PCA\n",
    "from sklearn.preprocessing import StandardScaler\n",
    "from sklearn.model_selection import train_test_split\n",
    "import pandas as pd\n",
    "from sklearn.linear_model import LogisticRegression\n",
    "from sklearn.metrics import accuracy_score\n",
    "import matplotlib.pyplot as plt\n",
    "import warnings\n",
    "warnings.filterwarnings('ignore')\n",
    "from sklearn.svm import SVC, LinearSVC"
   ]
  },
  {
   "cell_type": "code",
   "execution_count": 9,
   "id": "426add25",
   "metadata": {},
   "outputs": [
    {
     "data": {
      "text/plain": [
       "1    564\n",
       "0    192\n",
       "Name: class, dtype: int64"
      ]
     },
     "execution_count": 9,
     "metadata": {},
     "output_type": "execute_result"
    }
   ],
   "source": [
    "df= pd.read_csv(r\"C:\\Users\\nikhi\\pd_speech_features.csv\")\n",
    "df.head()\n",
    "df.shape\n",
    "df['class'].value_counts()"
   ]
  },
  {
   "cell_type": "code",
   "execution_count": 10,
   "id": "8ac9e054",
   "metadata": {},
   "outputs": [
    {
     "data": {
      "text/html": [
       "<div>\n",
       "<style scoped>\n",
       "    .dataframe tbody tr th:only-of-type {\n",
       "        vertical-align: middle;\n",
       "    }\n",
       "\n",
       "    .dataframe tbody tr th {\n",
       "        vertical-align: top;\n",
       "    }\n",
       "\n",
       "    .dataframe thead th {\n",
       "        text-align: right;\n",
       "    }\n",
       "</style>\n",
       "<table border=\"1\" class=\"dataframe\">\n",
       "  <thead>\n",
       "    <tr style=\"text-align: right;\">\n",
       "      <th></th>\n",
       "      <th>principal component 1</th>\n",
       "      <th>principal component 2</th>\n",
       "      <th>principal component 3</th>\n",
       "      <th>class</th>\n",
       "    </tr>\n",
       "  </thead>\n",
       "  <tbody>\n",
       "    <tr>\n",
       "      <th>0</th>\n",
       "      <td>-10.047372</td>\n",
       "      <td>1.471076</td>\n",
       "      <td>-6.846405</td>\n",
       "      <td>1</td>\n",
       "    </tr>\n",
       "    <tr>\n",
       "      <th>1</th>\n",
       "      <td>-10.637725</td>\n",
       "      <td>1.583748</td>\n",
       "      <td>-6.830975</td>\n",
       "      <td>1</td>\n",
       "    </tr>\n",
       "    <tr>\n",
       "      <th>2</th>\n",
       "      <td>-13.516185</td>\n",
       "      <td>-1.253543</td>\n",
       "      <td>-6.818699</td>\n",
       "      <td>1</td>\n",
       "    </tr>\n",
       "    <tr>\n",
       "      <th>3</th>\n",
       "      <td>-9.155083</td>\n",
       "      <td>8.833598</td>\n",
       "      <td>15.290904</td>\n",
       "      <td>1</td>\n",
       "    </tr>\n",
       "    <tr>\n",
       "      <th>4</th>\n",
       "      <td>-6.764470</td>\n",
       "      <td>4.611466</td>\n",
       "      <td>15.637123</td>\n",
       "      <td>1</td>\n",
       "    </tr>\n",
       "  </tbody>\n",
       "</table>\n",
       "</div>"
      ],
      "text/plain": [
       "   principal component 1  principal component 2  principal component 3  class\n",
       "0             -10.047372               1.471076              -6.846405      1\n",
       "1             -10.637725               1.583748              -6.830975      1\n",
       "2             -13.516185              -1.253543              -6.818699      1\n",
       "3              -9.155083               8.833598              15.290904      1\n",
       "4              -6.764470               4.611466              15.637123      1"
      ]
     },
     "execution_count": 10,
     "metadata": {},
     "output_type": "execute_result"
    }
   ],
   "source": [
    "X = df.drop('class',axis=1).values\n",
    "y = df['class'].values\n",
    "scaler = StandardScaler()\n",
    "X_Scale = scaler.fit_transform(X)\n",
    "pca2 = PCA(n_components=3)\n",
    "principalComponents = pca2.fit_transform(X_Scale)\n",
    "principalDf = pd.DataFrame(data = principalComponents, columns = ['principal component 1', 'principal component 2', 'principal component 3'])\n",
    "finalDf = pd.concat([principalDf, df[['class']]], axis = 1)\n",
    "finalDf.head()"
   ]
  },
  {
   "cell_type": "code",
   "execution_count": 11,
   "id": "3cc4ba83",
   "metadata": {},
   "outputs": [],
   "source": [
    "X_train, X_test, y_train, y_test = train_test_split(X_Scale,y, test_size=0.3,random_state=0)\n"
   ]
  },
  {
   "cell_type": "code",
   "execution_count": 12,
   "id": "c1eb42c6",
   "metadata": {},
   "outputs": [
    {
     "name": "stdout",
     "output_type": "stream",
     "text": [
      "svm accuracy = 91.68\n"
     ]
    }
   ],
   "source": [
    "svc = SVC(max_iter=1000)\n",
    "\n",
    "svc.fit(X_train, y_train)\n",
    "\n",
    "Y_pred = svc.predict(X_test)\n",
    "\n",
    "acc_svc = round(svc.score(X_train, y_train) * 100, 2)\n",
    "\n",
    "print(\"svm accuracy =\", acc_svc)\n"
   ]
  },
  {
   "cell_type": "code",
   "execution_count": null,
   "id": "2383bf45",
   "metadata": {},
   "outputs": [],
   "source": []
  }
 ],
 "metadata": {
  "kernelspec": {
   "display_name": "Python 3 (ipykernel)",
   "language": "python",
   "name": "python3"
  },
  "language_info": {
   "codemirror_mode": {
    "name": "ipython",
    "version": 3
   },
   "file_extension": ".py",
   "mimetype": "text/x-python",
   "name": "python",
   "nbconvert_exporter": "python",
   "pygments_lexer": "ipython3",
   "version": "3.9.13"
  }
 },
 "nbformat": 4,
 "nbformat_minor": 5
}
